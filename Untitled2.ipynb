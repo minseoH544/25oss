{
  "nbformat": 4,
  "nbformat_minor": 0,
  "metadata": {
    "colab": {
      "provenance": [],
      "authorship_tag": "ABX9TyPjQecVtyBOCfUlvGPyBvgy",
      "include_colab_link": true
    },
    "kernelspec": {
      "name": "python3",
      "display_name": "Python 3"
    },
    "language_info": {
      "name": "python"
    }
  },
  "cells": [
    {
      "cell_type": "markdown",
      "metadata": {
        "id": "view-in-github",
        "colab_type": "text"
      },
      "source": [
        "<a href=\"https://colab.research.google.com/github/minseoH544/25oss/blob/main/Untitled2.ipynb\" target=\"_parent\"><img src=\"https://colab.research.google.com/assets/colab-badge.svg\" alt=\"Open In Colab\"/></a>"
      ]
    },
    {
      "cell_type": "code",
      "source": [
        "# prompt: /content/sample_data/california_housing_test.csv를 분석해서 한국어로 정리해줘\n",
        "\n",
        "import pandas as pd\n",
        "\n",
        "# 데이터 불러오기\n",
        "df = pd.read_csv('/content/sample_data/california_housing_test.csv')\n",
        "\n",
        "# 데이터 요약 정보 출력\n",
        "print(\"데이터셋 정보:\")\n",
        "print(df.info())\n",
        "\n",
        "# 기본 통계량 출력\n",
        "print(\"\\n기술 통계량:\")\n",
        "print(df.describe())\n",
        "\n",
        "# 각 열의 결측치 개수 확인\n",
        "print(\"\\n결측치 개수:\")\n",
        "print(df.isnull().sum())\n",
        "\n",
        "# 컬럼별 데이터 타입 확인\n",
        "print(\"\\n컬럼 데이터 타입:\")\n",
        "print(df.dtypes)\n",
        "\n",
        "\n",
        "# 추가적인 분석 (예시) - 평균 주택 가격\n",
        "average_house_value = df['median_house_value'].mean()\n",
        "print(f\"\\n평균 주택 가격: {average_house_value}\")\n",
        "\n",
        "\n",
        "# 추가 분석 (예시) -  인구와 주택 가격의 상관관계\n",
        "correlation = df['population'].corr(df['median_house_value'])\n",
        "print(f\"\\n인구와 주택 가격의 상관관계: {correlation}\")\n"
      ],
      "metadata": {
        "id": "ERlAmXn-N8_E"
      },
      "execution_count": null,
      "outputs": []
    }
  ]
}